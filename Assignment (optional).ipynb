{
  "cells": [
    {
      "cell_type": "markdown",
      "metadata": {
        "id": "hWYnvd3kTCfj"
      },
      "source": [
        "## DNA Case Study (Optional)\n",
        "\n",
        "Author: Danis Alukaev <br>\n",
        "Email: d.alukaev@innopolis.university <br>\n",
        "Group: B19-DS-01"
      ]
    },
    {
      "cell_type": "markdown",
      "metadata": {
        "id": "7D9M-oZ2TCfl"
      },
      "source": [
        "#### 0. Prerequisites."
      ]
    },
    {
      "cell_type": "markdown",
      "source": [
        "Since there is a bug in `scipy` chi-square test implementation, make sure that version is `1.6.0`."
      ],
      "metadata": {
        "id": "mBC9A67qsNty"
      }
    },
    {
      "cell_type": "code",
      "source": [
        "!pip install scipy==1.6.0"
      ],
      "metadata": {
        "colab": {
          "base_uri": "https://localhost:8080/"
        },
        "id": "iRgk8bEasdCQ",
        "outputId": "d6eb6dbf-f26c-4cfe-8879-ad6de094b3a4"
      },
      "execution_count": 1,
      "outputs": [
        {
          "output_type": "stream",
          "name": "stdout",
          "text": [
            "Looking in indexes: https://pypi.org/simple, https://us-python.pkg.dev/colab-wheels/public/simple/\n",
            "Requirement already satisfied: scipy==1.6.0 in /usr/local/lib/python3.8/dist-packages (1.6.0)\n",
            "Requirement already satisfied: numpy>=1.16.5 in /usr/local/lib/python3.8/dist-packages (from scipy==1.6.0) (1.22.4)\n"
          ]
        }
      ]
    },
    {
      "cell_type": "code",
      "execution_count": 2,
      "metadata": {
        "id": "5FQe6PKpTCfn"
      },
      "outputs": [],
      "source": [
        "import numpy as np\n",
        "from matplotlib import pyplot as plt\n",
        "from sklearn.linear_model import LinearRegression\n",
        "from math import ceil, factorial, exp\n",
        "from scipy import stats\n",
        "\n",
        "np.random.seed(0)"
      ]
    },
    {
      "cell_type": "markdown",
      "metadata": {
        "id": "OiwbOWadTCfm"
      },
      "source": [
        "Let's start with importing the given data from `hcmv.data.txt`. The file is comprised of integer CMV palindrome locations for the 296 palindromes each at least ten base pairs long."
      ]
    },
    {
      "cell_type": "code",
      "execution_count": 3,
      "metadata": {
        "id": "ks_3MeK7TCfo"
      },
      "outputs": [],
      "source": [
        "def read_hmcv_data(path):\n",
        "    with open(path) as f:    \n",
        "        lines = f.readlines()[1:-1]\n",
        "    locations = [int(line.replace(\" \", \"\").replace(\"\\n\", \"\")) for line in lines]\n",
        "    locations = np.array(locations)\n",
        "    return locations\n",
        "\n",
        "path = \"hcmv.data.txt\"\n",
        "locations = read_hmcv_data(path)"
      ]
    },
    {
      "cell_type": "code",
      "execution_count": 4,
      "metadata": {
        "colab": {
          "base_uri": "https://localhost:8080/"
        },
        "id": "L1v8SxXBTCfo",
        "outputId": "eb729c47-6494-4cef-c77b-142f5b0904db"
      },
      "outputs": [
        {
          "output_type": "stream",
          "name": "stdout",
          "text": [
            "Head of array: [ 177 1321 1433 1477 3248]\n"
          ]
        }
      ],
      "source": [
        "print(f\"Head of array: {locations[:5]}\")"
      ]
    },
    {
      "cell_type": "code",
      "execution_count": 5,
      "metadata": {
        "colab": {
          "base_uri": "https://localhost:8080/"
        },
        "id": "Wre1Rdt8TCfp",
        "outputId": "503a4ad1-f5ba-48a3-a3d2-cc5efdb52f70"
      },
      "outputs": [
        {
          "output_type": "stream",
          "name": "stdout",
          "text": [
            "Range of locations is [177, 228953]\n"
          ]
        }
      ],
      "source": [
        "print(f\"Range of locations is [{locations.min()}, {locations.max()}]\")"
      ]
    },
    {
      "cell_type": "markdown",
      "metadata": {
        "id": "ioTNAC2BTCfq"
      },
      "source": [
        "#### 1. Random scatter."
      ]
    },
    {
      "cell_type": "markdown",
      "metadata": {
        "id": "HCviXGz2TCfq"
      },
      "source": [
        "To get an intuition about the data, let's firstly plot the graph of palindrome locations."
      ]
    },
    {
      "cell_type": "code",
      "execution_count": 6,
      "metadata": {
        "colab": {
          "base_uri": "https://localhost:8080/",
          "height": 265
        },
        "id": "zT4xa4OmTCfq",
        "outputId": "b8f9b556-7ee6-45a6-8180-7e9031735fa7"
      },
      "outputs": [
        {
          "output_type": "display_data",
          "data": {
            "text/plain": [
              "<Figure size 432x288 with 1 Axes>"
            ],
            "image/png": "[encoded data removed]"
          },
          "metadata": {
            "needs_background": "light"
          }
        }
      ],
      "source": [
        "def plot_scatter(locations):\n",
        "    plt.scatter(range(1, len(locations) + 1), locations, linewidths=0.5)\n",
        "    plt.grid()\n",
        "    plt.plot()\n",
        "\n",
        "plot_scatter(locations)"
      ]
    },
    {
      "cell_type": "markdown",
      "metadata": {
        "id": "S4_McxRzTCfr"
      },
      "source": [
        "As you can see, it pretty much reflects linear dependency. We can verify it using linear regression from `scikit-learn`: if $R^2$ is nearly 1.0, then line can explain given data and our speculation is true. "
      ]
    },
    {
      "cell_type": "code",
      "execution_count": 7,
      "metadata": {
        "colab": {
          "base_uri": "https://localhost:8080/"
        },
        "id": "T_8VYsyuTCfr",
        "outputId": "1a4818c2-5c54-4f1a-dd7c-e0034c8ed5d0"
      },
      "outputs": [
        {
          "output_type": "stream",
          "name": "stdout",
          "text": [
            "R-squared is 0.9984515619010546\n"
          ]
        }
      ],
      "source": [
        "def get_r_squared(data):\n",
        "    model = LinearRegression()\n",
        "    X = np.array(range(1, len(data) + 1)).reshape(-1, 1)\n",
        "    Y = np.array(data)\n",
        "    model.fit(X, Y)\n",
        "    r_squared = model.score(X, Y)\n",
        "    return r_squared\n",
        "\n",
        "r_squared = get_r_squared(locations)\n",
        "print(f\"R-squared is {r_squared}\")"
      ]
    },
    {
      "cell_type": "markdown",
      "metadata": {
        "id": "UJlUVxsuTCfs"
      },
      "source": [
        "Wow! It's definitly shows linear relation. Therefore, in further sections we will use linear (uniform) random sampling for simulated data."
      ]
    },
    {
      "cell_type": "markdown",
      "metadata": {
        "id": "XG3wDFldTCfs"
      },
      "source": [
        "As suggested in the paper, the starting point can be checking how random scatter looks compared to real data. "
      ]
    },
    {
      "cell_type": "code",
      "execution_count": 8,
      "metadata": {
        "id": "QzHsUUexTCfs"
      },
      "outputs": [],
      "source": [
        "N_SAMPLES = 2\n",
        "BASES = 229_354\n",
        "N_PALINDROMS = 296"
      ]
    },
    {
      "cell_type": "code",
      "execution_count": 9,
      "metadata": {
        "id": "U4--ZXtCTCft"
      },
      "outputs": [],
      "source": [
        "def generate_simulation(bases, n_palindromes):\n",
        "    simulation = np.random.randint(bases, size=n_palindromes)\n",
        "    simulation = np.sort(simulation)\n",
        "    return simulation"
      ]
    },
    {
      "cell_type": "code",
      "execution_count": 10,
      "metadata": {
        "id": "XqTMCypPTCft"
      },
      "outputs": [],
      "source": [
        "def plot_scatters(samples, legends, colors):\n",
        "    for sample, legend, color in zip(samples, legends, colors):\n",
        "        plt.scatter(range(1, len(sample) + 1), sample, linewidths=0.5, c=color, label=legend, alpha=0.5)\n",
        "    plt.legend()\n",
        "    plt.grid()\n",
        "    plt.plot()"
      ]
    },
    {
      "cell_type": "code",
      "execution_count": 11,
      "metadata": {
        "id": "M1RW1F5XTCft"
      },
      "outputs": [],
      "source": [
        "samples = [locations] + [generate_simulation(BASES, N_PALINDROMS) for _ in range(N_SAMPLES)]\n",
        "legends = [\"real\"] + [f\"synthetic #{i + 1}\" for i in range(N_SAMPLES)]\n",
        "colors = [np.random.rand(3,).reshape(1,-1) for _ in range(N_SAMPLES + 1)]"
      ]
    },
    {
      "cell_type": "code",
      "execution_count": 12,
      "metadata": {
        "colab": {
          "base_uri": "https://localhost:8080/",
          "height": 265
        },
        "id": "4zTqoHc-TCfu",
        "outputId": "a0f83379-ab01-4f18-f7fe-bccce57602f3"
      },
      "outputs": [
        {
          "output_type": "display_data",
          "data": {
            "text/plain": [
              "<Figure size 432x288 with 1 Axes>"
            ],
            "image/png": "[encoded data removed]"
          },
          "metadata": {
            "needs_background": "light"
          }
        }
      ],
      "source": [
        "plot_scatters(samples, legends, colors)"
      ]
    },
    {
      "cell_type": "markdown",
      "metadata": {
        "id": "fHgHPztyTCfu"
      },
      "source": [
        "Look pretty similar! Let's now check r-squared for all samples."
      ]
    },
    {
      "cell_type": "code",
      "execution_count": 13,
      "metadata": {
        "colab": {
          "base_uri": "https://localhost:8080/"
        },
        "id": "l6Tlkuy5TCfv",
        "outputId": "5312c363-baa1-4545-9130-b1ec4d5773fd"
      },
      "outputs": [
        {
          "output_type": "stream",
          "name": "stdout",
          "text": [
            "R-squared for 'real' is 0.9984515619010546\n",
            "R-squared for 'synthetic #1' is 0.993602796355477\n",
            "R-squared for 'synthetic #2' is 0.9920812691989909\n"
          ]
        }
      ],
      "source": [
        "for sample, legend in zip(samples, legends):\n",
        "    r_squared = get_r_squared(sample)\n",
        "    print(f\"R-squared for '{legend}' is {r_squared}\")"
      ]
    },
    {
      "cell_type": "markdown",
      "metadata": {
        "id": "Dai6mqUaTCfv"
      },
      "source": [
        "Further we can use Kolmogorov-Smirnov test to check whether real and synthetic data come from the same distribution. Let the results be statistically significant at a P-value of 0.05.\n",
        "\n",
        "**Null hypothesis:** Both data samples come from the same distribution. <br>\n",
        "**Alternative hypothesis:** Data samples come from the different distributions."
      ]
    },
    {
      "cell_type": "code",
      "execution_count": 14,
      "metadata": {
        "colab": {
          "base_uri": "https://localhost:8080/"
        },
        "id": "dR52DEe3TCfw",
        "outputId": "4be899d3-b8ce-4582-dc4a-1ad59e7966d9"
      },
      "outputs": [
        {
          "output_type": "stream",
          "name": "stdout",
          "text": [
            "Cannot reject null hypothesis for KS(real, synthetic #1).\n",
            "Cannot reject null hypothesis for KS(real, synthetic #2).\n"
          ]
        }
      ],
      "source": [
        "for i in range(1, N_SAMPLES + 1):\n",
        "    pvalue = stats.ks_2samp(samples[0], samples[2]).pvalue \n",
        "    if pvalue < 0.05:\n",
        "        print(f\"Reject null hypothesis for KS({legends[0]}, {legends[i]}). Accept alternative.\")\n",
        "    else:\n",
        "        print(f\"Cannot reject null hypothesis for KS({legends[0]}, {legends[i]}).\")"
      ]
    },
    {
      "cell_type": "markdown",
      "metadata": {
        "id": "RJviwswqTCfw"
      },
      "source": [
        "#### 2. Locations and spacings."
      ]
    },
    {
      "cell_type": "markdown",
      "metadata": {
        "id": "gNzykwf5TCfw"
      },
      "source": [
        "Although scatter plot provided us with an intuition about data, for us it will be beneficial to consider palindrome locations as ticks on horizontal line (see Figure 4.1)."
      ]
    },
    {
      "cell_type": "code",
      "execution_count": 15,
      "metadata": {
        "colab": {
          "base_uri": "https://localhost:8080/",
          "height": 220
        },
        "id": "-iWky36_TCfx",
        "outputId": "b390b4a5-ebb1-4153-938c-3d1922677a3c"
      },
      "outputs": [
        {
          "output_type": "display_data",
          "data": {
            "text/plain": [
              "<Figure size 1296x216 with 3 Axes>"
            ],
            "image/png": "[encoded data removed]"
          },
          "metadata": {
            "needs_background": "light"
          }
        }
      ],
      "source": [
        "def plot_locations_ticks(samples, legends, colors, bases=BASES):\n",
        "    n_samples = len(samples)\n",
        "    n_palindromes = len(samples[0])\n",
        "    fig, axes = plt.subplots(n_samples, 1)\n",
        "    fig.set_size_inches(18, n_samples)\n",
        "    fig.tight_layout()\n",
        "\n",
        "    for ax, sample, legend, color in zip(axes, samples, legends, colors):\n",
        "        ax.hlines(1, 1, bases, color=color)\n",
        "        ax.set_xlim([0, bases + 1])\n",
        "        ax.set_ylim(0.5, 1.5)\n",
        "        ax.set_title(legend)\n",
        "        y = np.ones(n_palindromes)\n",
        "        ax.plot(sample, y, '|', ms=40, color=color)\n",
        "        ax.set_axis_off()\n",
        "    plt.show()\n",
        "\n",
        "plot_locations_ticks(samples, legends, colors)"
      ]
    },
    {
      "cell_type": "markdown",
      "metadata": {
        "id": "7tE7oapUTCgE"
      },
      "source": [
        "Now when the spacings between palindromes are more evident for us, let's examine the spacings between consecutive palindromes and sums of consecutive pairs, triplets."
      ]
    },
    {
      "cell_type": "code",
      "execution_count": 16,
      "metadata": {
        "colab": {
          "base_uri": "https://localhost:8080/",
          "height": 294
        },
        "id": "i9CxLxWCTCgE",
        "outputId": "2e95c642-29e2-45e5-e5cf-c85eac86d672"
      },
      "outputs": [
        {
          "output_type": "display_data",
          "data": {
            "text/plain": [
              "<Figure size 1800x288 with 3 Axes>"
            ],
            "image/png": "[encoded data removed]"
          },
          "metadata": {
            "needs_background": "light"
          }
        }
      ],
      "source": [
        "def hist_spacings(samples, legends, colors, caption=None, offset=1, bins=range(0, 8000, 100)):\n",
        "    spacings = [sample[offset:] - sample[:-offset] for sample in samples]\n",
        "    hists = [np.histogram(spacing, bins=bins) for spacing in spacings]\n",
        "    max_count = max([c.max() for c, _ in hists])\n",
        "    n_samples = len(samples)\n",
        "    \n",
        "    fig, axes = plt.subplots(1, n_samples)\n",
        "    fig.set_size_inches(25, 4)\n",
        "    if caption:\n",
        "        fig.suptitle(caption)\n",
        "    \n",
        "    for ax, hist, legend, color in zip(axes, hists, legends, colors):\n",
        "        counts, bins = hist\n",
        "        ax.set_title(legend)\n",
        "        ax.hist(bins[:-1], bins, weights=counts, color=color)\n",
        "        ax.grid()\n",
        "        ax.set_ylim([0, max_count + ceil(max_count / 11)])\n",
        "    plt.show()\n",
        "\n",
        "hist_spacings(samples, legends, colors, \"Spacings between consecutive palindromes\", offset=1)"
      ]
    },
    {
      "cell_type": "markdown",
      "metadata": {
        "id": "Upn_I_NhTCgE"
      },
      "source": [
        "Note that overall shape of these distributions is quite similar. However, real data contains much more spacings less than 100."
      ]
    },
    {
      "cell_type": "code",
      "execution_count": 17,
      "metadata": {
        "colab": {
          "base_uri": "https://localhost:8080/",
          "height": 294
        },
        "id": "YleQKXA1TCgF",
        "outputId": "5ad0b154-1a24-4717-bce3-e612b6599a58"
      },
      "outputs": [
        {
          "output_type": "display_data",
          "data": {
            "text/plain": [
              "<Figure size 1800x288 with 3 Axes>"
            ],
            "image/png": "[encoded data removed]"
          },
          "metadata": {
            "needs_background": "light"
          }
        }
      ],
      "source": [
        "hist_spacings(samples, legends, colors, \"Spacings between consecutive pairs of palindromes\", offset=2)"
      ]
    },
    {
      "cell_type": "code",
      "execution_count": 18,
      "metadata": {
        "colab": {
          "base_uri": "https://localhost:8080/",
          "height": 294
        },
        "id": "ihyUP-yRTCgF",
        "outputId": "3a8356cf-3808-48f2-d115-804a46e20b69"
      },
      "outputs": [
        {
          "output_type": "display_data",
          "data": {
            "text/plain": [
              "<Figure size 1800x288 with 3 Axes>"
            ],
            "image/png": "[encoded data removed]"
          },
          "metadata": {
            "needs_background": "light"
          }
        }
      ],
      "source": [
        "hist_spacings(samples, legends, colors, \"Spacings between consecutive triplets of palindromes\", offset=3)"
      ]
    },
    {
      "cell_type": "markdown",
      "metadata": {
        "id": "QqqJExepTCgF"
      },
      "source": [
        "From graphs of spacing of consecutive pairs and triplets, we can see that real data is more positively skewed indicating a larger number of palindromes at a shorter distance. "
      ]
    },
    {
      "cell_type": "markdown",
      "metadata": {
        "id": "ElRSqOB-TCgF"
      },
      "source": [
        "#### 3. Counts."
      ]
    },
    {
      "cell_type": "markdown",
      "source": [
        "Let's split DNA into nonoverlapping regions of equal length, and count number of palindromes in each region. Further, we can group regions by number of occurences and plot the histogram."
      ],
      "metadata": {
        "id": "a82gf9UOY0GH"
      }
    },
    {
      "cell_type": "code",
      "execution_count": 19,
      "metadata": {
        "id": "l27qWe9HTCgF"
      },
      "outputs": [],
      "source": [
        "def count_palindromes(sample, bases=BASES, size=1000):\n",
        "    n_palindromes = np.array([((sample >= i - size) & (sample < i)).astype(int).sum() for i in range(size, bases, size)])\n",
        "    return n_palindromes\n",
        "\n",
        "def count_region(sample, bases=BASES, size=1000):\n",
        "    n_palindromes = count_palindromes(sample, bases, size)\n",
        "    unique, counts = np.unique(n_palindromes, return_counts=True)\n",
        "    dict_res = dict(zip(unique, counts))\n",
        "    for i in range(unique.max()):\n",
        "        if i not in dict_res:\n",
        "            dict_res[i] = 0\n",
        "    return dict_res\n",
        "\n",
        "observed_100 = count_region(samples[0], size=100)"
      ]
    },
    {
      "cell_type": "code",
      "source": [
        "observed_100"
      ],
      "metadata": {
        "colab": {
          "base_uri": "https://localhost:8080/"
        },
        "id": "YlETSt8mYtoi",
        "outputId": "277f2076-a959-481f-bd10-12caad890a06"
      },
      "execution_count": 20,
      "outputs": [
        {
          "output_type": "execute_result",
          "data": {
            "text/plain": [
              "{0: 2026, 1: 243, 2: 20, 3: 3, 4: 1}"
            ]
          },
          "metadata": {},
          "execution_count": 20
        }
      ]
    },
    {
      "cell_type": "code",
      "source": [
        "def plot_hist_occurences(observed):\n",
        "    plt.bar(observed.keys(), observed.values())\n",
        "    plt.grid()\n",
        "    plt.plot()\n",
        "  \n",
        "plot_hist_occurences(observed_100)"
      ],
      "metadata": {
        "colab": {
          "base_uri": "https://localhost:8080/",
          "height": 265
        },
        "id": "w7NI1L0Wx9wX",
        "outputId": "63d83d09-0257-42c9-f634-c8acb9ff8094"
      },
      "execution_count": 21,
      "outputs": [
        {
          "output_type": "display_data",
          "data": {
            "text/plain": [
              "<Figure size 432x288 with 1 Axes>"
            ],
            "image/png": "[encoded data removed]"
          },
          "metadata": {
            "needs_background": "light"
          }
        }
      ]
    },
    {
      "cell_type": "code",
      "source": [
        "observed_1000 = count_region(samples[0], size=1000)"
      ],
      "metadata": {
        "id": "_7kwV0b22bKH"
      },
      "execution_count": 22,
      "outputs": []
    },
    {
      "cell_type": "code",
      "source": [
        "observed_1000"
      ],
      "metadata": {
        "colab": {
          "base_uri": "https://localhost:8080/"
        },
        "id": "ke5_xyX12ivR",
        "outputId": "c8657dee-5467-41cb-b697-14b9382405f5"
      },
      "execution_count": 23,
      "outputs": [
        {
          "output_type": "execute_result",
          "data": {
            "text/plain": [
              "{0: 67, 1: 87, 2: 35, 3: 28, 4: 10, 7: 1, 8: 1, 5: 0, 6: 0}"
            ]
          },
          "metadata": {},
          "execution_count": 23
        }
      ]
    },
    {
      "cell_type": "code",
      "source": [
        "plot_hist_occurences(observed_1000)"
      ],
      "metadata": {
        "colab": {
          "base_uri": "https://localhost:8080/",
          "height": 265
        },
        "id": "Tpq4krPC2mFC",
        "outputId": "dfc973c4-a481-49d8-84d5-845d4a917cdb"
      },
      "execution_count": 24,
      "outputs": [
        {
          "output_type": "display_data",
          "data": {
            "text/plain": [
              "<Figure size 432x288 with 1 Axes>"
            ],
            "image/png": "[encoded data removed]"
          },
          "metadata": {
            "needs_background": "light"
          }
        }
      ]
    },
    {
      "cell_type": "code",
      "source": [
        "retrieve_items = lambda x: np.array([x[i] for i in range(len(x))])\n",
        "\n",
        "observed_100_np = retrieve_items(observed_100)\n",
        "observed_1000_np = retrieve_items(observed_1000)"
      ],
      "metadata": {
        "id": "K5qe6R7s26mX"
      },
      "execution_count": 25,
      "outputs": []
    },
    {
      "cell_type": "code",
      "source": [
        "print(f\"Variance for shorter vs. longer regions: {observed_100_np.var()} vs. {observed_1000_np.var()}\")"
      ],
      "metadata": {
        "colab": {
          "base_uri": "https://localhost:8080/"
        },
        "id": "YQI4HCGn3Ffd",
        "outputId": "82d4475d-e13d-4650-ca8b-40eb0506aa84"
      },
      "execution_count": 26,
      "outputs": [
        {
          "output_type": "stream",
          "name": "stdout",
          "text": [
            "Variance for shorter vs. longer regions: 622513.04 vs. 926.9135802469136\n"
          ]
        }
      ]
    },
    {
      "cell_type": "markdown",
      "source": [
        "The counts for shorter regions are more variable than those for longer regions."
      ],
      "metadata": {
        "id": "hNFK-wi13W74"
      }
    },
    {
      "cell_type": "markdown",
      "source": [
        "For further experiments region size of 1000 seems to be natural choice."
      ],
      "metadata": {
        "id": "KQ9lOHri2wHR"
      }
    },
    {
      "cell_type": "code",
      "source": [
        "observed = observed_1000"
      ],
      "metadata": {
        "id": "r5lkh8iL2uWx"
      },
      "execution_count": 27,
      "outputs": []
    },
    {
      "cell_type": "markdown",
      "source": [
        "We can model number of palindrome occurrences using Poisson distribution. Recall that probability $p$ of $k$ points to be in a region is given by:\n",
        "$$p = \\frac{\\lambda ^ k e^{-\\lambda}}{k!} $$"
      ],
      "metadata": {
        "id": "_dEz8xJzyVJw"
      }
    },
    {
      "cell_type": "code",
      "execution_count": 28,
      "metadata": {
        "id": "sofFY8tfTCgF"
      },
      "outputs": [],
      "source": [
        "poisson = lambda lam, k: lam ** k / factorial(k) * exp(-lam)"
      ]
    },
    {
      "cell_type": "code",
      "execution_count": 29,
      "metadata": {
        "id": "U33MFfB0TCgF"
      },
      "outputs": [],
      "source": [
        "def approximate_region(max_k, bases=BASES, n_palindromes=N_PALINDROMS, size=1000):\n",
        "    dict_res = dict()\n",
        "    for k in range(max_k + 1):\n",
        "        lam = n_palindromes / (bases / size)\n",
        "        dict_res[k] = bases / size * poisson(lam, k)\n",
        "    return dict_res"
      ]
    },
    {
      "cell_type": "code",
      "execution_count": 30,
      "metadata": {
        "id": "biRU0iKiTCgG"
      },
      "outputs": [],
      "source": [
        "theoretical = approximate_region(max(observed.keys()))"
      ]
    },
    {
      "cell_type": "code",
      "source": [
        "plot_hist_occurences(theoretical)"
      ],
      "metadata": {
        "colab": {
          "base_uri": "https://localhost:8080/",
          "height": 265
        },
        "id": "YhQxW2r_zc4a",
        "outputId": "3b1d47a4-26ae-4899-a6c1-4256ee6680a5"
      },
      "execution_count": 31,
      "outputs": [
        {
          "output_type": "display_data",
          "data": {
            "text/plain": [
              "<Figure size 432x288 with 1 Axes>"
            ],
            "image/png": "[encoded data removed]"
          },
          "metadata": {
            "needs_background": "light"
          }
        }
      ]
    },
    {
      "cell_type": "markdown",
      "source": [
        "Remarkably, the overall shape of theoretical distribution is quite similar to observed one. Now it makes sense to use $χ^2$ test to check how well Poisson distribution fits the real data. \n",
        "\n",
        "\n",
        "**Null hypothesis:** Real data follow the Poisson distribution. <br>\n",
        "**Alternative hypothesis:** Real data does not follow the Poisson distribution.\n",
        "\n",
        "Let significance level be $\\alpha=0.05$.\n"
      ],
      "metadata": {
        "id": "5AHV2Lm0zhqY"
      }
    },
    {
      "cell_type": "code",
      "execution_count": 32,
      "metadata": {
        "id": "yE_fgNg5TCgG"
      },
      "outputs": [],
      "source": [
        "observed_items = retrieve_items(observed)\n",
        "theoretical_items = retrieve_items(theoretical)"
      ]
    },
    {
      "cell_type": "markdown",
      "source": [
        "In documentation of `scipy` it is said that for chi-square test to work, all of the observed and expected frequencies should be at least 5. Therefore, I suggest to filter out values less than 5."
      ],
      "metadata": {
        "id": "w6ZDK4721aYj"
      }
    },
    {
      "cell_type": "code",
      "source": [
        "prepare_chi_square = lambda o, t, thresh=5: (o[o >= thresh], t[:len(o)][o >= thresh])\n",
        "\n",
        "observed_items_p, theoretical_items_p = prepare_chi_square(observed_items, theoretical_items)"
      ],
      "metadata": {
        "id": "REoFGANAVU3m"
      },
      "execution_count": 33,
      "outputs": []
    },
    {
      "cell_type": "code",
      "execution_count": 34,
      "metadata": {
        "colab": {
          "base_uri": "https://localhost:8080/"
        },
        "id": "wSXAuC4GTCgG",
        "outputId": "9c22eaed-31e4-491b-e581-897cd950751b"
      },
      "outputs": [
        {
          "output_type": "stream",
          "name": "stdout",
          "text": [
            "Cannot reject null hypothesis for chi-square test.\n"
          ]
        }
      ],
      "source": [
        "def test_hypothesis_chi_square(observed, theoretical):\n",
        "    pvalue = stats.chisquare(observed, f_exp=theoretical).pvalue \n",
        "\n",
        "    if pvalue < 0.05:\n",
        "        print(f\"Reject null hypothesis for chi-square test. Accept alternative.\")\n",
        "    else:\n",
        "        print(f\"Cannot reject null hypothesis for chi-square test.\")\n",
        "\n",
        "test_hypothesis_chi_square(observed_items_p, theoretical_items_p)"
      ]
    },
    {
      "cell_type": "markdown",
      "source": [
        "Similar can be done with synthetic data."
      ],
      "metadata": {
        "id": "WxyhTIe24RN0"
      }
    },
    {
      "cell_type": "code",
      "source": [
        "for sample in samples[1:]:\n",
        "    observed_ = count_region(sample)\n",
        "    observed_items_ = retrieve_items(observed_)\n",
        "    observed_items_p_, theoretical_items_p_ = prepare_chi_square(observed_items_, theoretical_items)\n",
        "    test_hypothesis_chi_square(observed_items_p_, theoretical_items_p_)"
      ],
      "metadata": {
        "colab": {
          "base_uri": "https://localhost:8080/"
        },
        "id": "3Os814SA4QU8",
        "outputId": "43e1d841-10dc-4223-dba4-6e44a0a6bc62"
      },
      "execution_count": 35,
      "outputs": [
        {
          "output_type": "stream",
          "name": "stdout",
          "text": [
            "Cannot reject null hypothesis for chi-square test.\n",
            "Cannot reject null hypothesis for chi-square test.\n"
          ]
        }
      ]
    },
    {
      "cell_type": "markdown",
      "source": [
        "#### 4. The biggest cluster."
      ],
      "metadata": {
        "id": "nuOnx-8I6hhc"
      }
    },
    {
      "cell_type": "markdown",
      "source": [
        "The good starting point for finding the biggest cluster of palindromes is by visual inspection of frequencies in different regions. Going from longer regions to smaller regions we expect to find the area with largest number of palindromes."
      ],
      "metadata": {
        "id": "ld61HpmSANJK"
      }
    },
    {
      "cell_type": "code",
      "source": [
        "def hist_palindromes(samples, legends, colors, size=10000):\n",
        "    n_palindromes = [count_palindromes(sample, bases=BASES, size=size) for sample in samples]\n",
        "    max_count = max([max(n_palindrome) for n_palindrome in n_palindromes])\n",
        "    n_samples = len(samples)\n",
        "    \n",
        "    fig, axes = plt.subplots(1, n_samples)\n",
        "    fig.set_size_inches(25, 4)\n",
        "    \n",
        "    for ax, n_palindrome, legend, color in zip(axes, n_palindromes, legends, colors):\n",
        "        ax.set_title(legend)\n",
        "        ax.bar(np.array(range(len(n_palindrome))) * size, n_palindrome, width=size * 0.8, color=color)\n",
        "        ax.set_ylim([0, max_count + ceil(max_count * 0.1)])\n",
        "        ax.grid()\n",
        "    plt.show()\n",
        "\n",
        "hist_palindromes(samples, legends, colors, size=10000) "
      ],
      "metadata": {
        "colab": {
          "base_uri": "https://localhost:8080/",
          "height": 281
        },
        "id": "yHd_If7X6jxQ",
        "outputId": "104e174f-8e90-4c16-d10e-c38d5f50f0e2"
      },
      "execution_count": 36,
      "outputs": [
        {
          "output_type": "display_data",
          "data": {
            "text/plain": [
              "<Figure size 1800x288 with 3 Axes>"
            ],
            "image/png": "[encoded data removed]"
          },
          "metadata": {
            "needs_background": "light"
          }
        }
      ]
    },
    {
      "cell_type": "code",
      "source": [
        "hist_palindromes(samples, legends, colors, size=5000) "
      ],
      "metadata": {
        "colab": {
          "base_uri": "https://localhost:8080/",
          "height": 281
        },
        "id": "5uM9bEYD8uaL",
        "outputId": "1bc152d6-a7e6-4e95-fa87-19e6ed7fb92d"
      },
      "execution_count": 37,
      "outputs": [
        {
          "output_type": "display_data",
          "data": {
            "text/plain": [
              "<Figure size 1800x288 with 3 Axes>"
            ],
            "image/png": "[encoded data removed]"
          },
          "metadata": {
            "needs_background": "light"
          }
        }
      ]
    },
    {
      "cell_type": "code",
      "source": [
        "hist_palindromes(samples, legends, colors, size=2500) "
      ],
      "metadata": {
        "colab": {
          "base_uri": "https://localhost:8080/",
          "height": 281
        },
        "id": "UrDQqcEJ-q72",
        "outputId": "36b0314c-b920-43e3-a162-89d80d23eadd"
      },
      "execution_count": 38,
      "outputs": [
        {
          "output_type": "display_data",
          "data": {
            "text/plain": [
              "<Figure size 1800x288 with 3 Axes>"
            ],
            "image/png": "[encoded data removed]"
          },
          "metadata": {
            "needs_background": "light"
          }
        }
      ]
    },
    {
      "cell_type": "code",
      "source": [
        "hist_palindromes(samples, legends, colors, size=1000) "
      ],
      "metadata": {
        "colab": {
          "base_uri": "https://localhost:8080/",
          "height": 281
        },
        "id": "rsUDFk4v-ucm",
        "outputId": "12754173-17c7-44e3-8163-a51284875916"
      },
      "execution_count": 39,
      "outputs": [
        {
          "output_type": "display_data",
          "data": {
            "text/plain": [
              "<Figure size 1800x288 with 3 Axes>"
            ],
            "image/png": "[encoded data removed]"
          },
          "metadata": {
            "needs_background": "light"
          }
        }
      ]
    },
    {
      "cell_type": "markdown",
      "source": [
        "Here we can observe that there is a potential origin of replication of size 8. Let's find the exact location of these palindromes."
      ],
      "metadata": {
        "id": "OJfHgWofBGpm"
      }
    },
    {
      "cell_type": "code",
      "source": [
        "size = 1000\n",
        "\n",
        "anchors = np.where(count_palindromes(samples[0], bases=BASES, size=size) == 8)[0] \n",
        "print(f\"Anchor positions for biggest cluster: {[anchor * size for anchor in anchors]}\")"
      ],
      "metadata": {
        "colab": {
          "base_uri": "https://localhost:8080/"
        },
        "id": "13_vmR9g_KOM",
        "outputId": "af66acb9-7120-42cd-caa9-8178bc1fac58"
      },
      "execution_count": 40,
      "outputs": [
        {
          "output_type": "stream",
          "name": "stdout",
          "text": [
            "Anchor positions for biggest cluster: [92000]\n"
          ]
        }
      ]
    },
    {
      "cell_type": "code",
      "source": [
        "size = 500\n",
        "\n",
        "anchors = np.where(count_palindromes(samples[0], bases=BASES, size=size) == 8)[0] \n",
        "print(f\"Anchor positions for biggest cluster: {[anchor * size for anchor in anchors]}\")"
      ],
      "metadata": {
        "colab": {
          "base_uri": "https://localhost:8080/"
        },
        "id": "7dCoIHPmC2Kf",
        "outputId": "ce3dd187-3453-46b0-f1dc-c3ba5dbafb17"
      },
      "execution_count": 41,
      "outputs": [
        {
          "output_type": "stream",
          "name": "stdout",
          "text": [
            "Anchor positions for biggest cluster: [92500]\n"
          ]
        }
      ]
    },
    {
      "cell_type": "markdown",
      "source": [
        "Thus, the biggest cluster of palindromes of length 8 is located around 92500 with a region size 500. "
      ],
      "metadata": {
        "id": "dqy9zVSbDsfJ"
      }
    },
    {
      "cell_type": "code",
      "source": [
        "def find_clusters_synthetic(n_experiments, size=500):\n",
        "    with_clusters = 0\n",
        "    for _ in range(n_experiments):\n",
        "        sample = generate_simulation(BASES, N_PALINDROMS)\n",
        "        contains_cluster = len(np.where(count_palindromes(sample, bases=BASES, size=size) == 8)[0]) > 0\n",
        "        with_clusters += int(contains_cluster)\n",
        "    return with_clusters\n",
        "\n",
        "\n",
        "N_EXPERIMENTS = 100000\n",
        "with_clusters = find_clusters_synthetic(N_EXPERIMENTS)\n",
        "\n",
        "print(f\"Probability to observe cluster of 8 palindromes is {with_clusters} / {N_EXPERIMENTS} or {with_clusters / N_EXPERIMENTS}\")"
      ],
      "metadata": {
        "colab": {
          "base_uri": "https://localhost:8080/"
        },
        "id": "oMUWRRvRDBgT",
        "outputId": "77041790-1a02-4d86-b2b3-fc76b7178546"
      },
      "execution_count": 42,
      "outputs": [
        {
          "output_type": "stream",
          "name": "stdout",
          "text": [
            "Probability to observe cluster of 8 palindromes is 17 / 100000 or 0.00017\n"
          ]
        }
      ]
    },
    {
      "cell_type": "markdown",
      "source": [
        "From these simulations we can conclude that observation of 8 palindromes is statistically significant and indeed tend to be origin of replication."
      ],
      "metadata": {
        "id": "rJUBmTtqH75M"
      }
    },
    {
      "cell_type": "markdown",
      "source": [
        "#### Conclusion.\n",
        "I would suggest a biologist to use this `.ipynb` notebook as an interactive tool to experimentally search for the origin of replication. Luckily, each step was described in detail."
      ],
      "metadata": {
        "id": "oylmYhhjEVdm"
      }
    }
  ],
  "metadata": {
    "kernelspec": {
      "display_name": "bottleneck",
      "language": "python",
      "name": "python3"
    },
    "language_info": {
      "codemirror_mode": {
        "name": "ipython",
        "version": 3
      },
      "file_extension": ".py",
      "mimetype": "text/x-python",
      "name": "python",
      "nbconvert_exporter": "python",
      "pygments_lexer": "ipython3",
      "version": "3.10.8"
    },
    "orig_nbformat": 4,
    "colab": {
      "provenance": []
    }
  },
  "nbformat": 4,
  "nbformat_minor": 0
}